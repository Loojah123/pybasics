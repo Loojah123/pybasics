{
 "cells": [
  {
   "cell_type": "markdown",
   "metadata": {},
   "source": [
    "## Day 3 ##\n",
    "---\n",
    "Problem: Determine frequency of words for given paragraph.\n",
    "\n",
    "Uses:\n",
    "- Dictionary\n",
    "- List\n",
    "- String Functions\n",
    "- While Loop / For Loop\n",
    "- If condition"
   ]
  },
  {
   "cell_type": "code",
   "execution_count": 13,
   "metadata": {
    "collapsed": true
   },
   "outputs": [],
   "source": [
    "paragraph = '''\n",
    "I had seen little of Holmes lately. My marriage had drifted us\n",
    "away from each other. My own complete happiness, and the\n",
    "home-centred interests which rise up around the man who first\n",
    "finds himself master of his own establishment, were sufficient to\n",
    "absorb all my attention, while Holmes, who loathed every form of\n",
    "society with his whole Bohemian soul, remained in our lodgings in\n",
    "Baker Street, buried among his old books, and alternating from\n",
    "week to week between cocaine and ambition, the drowsiness of the\n",
    "drug, and the fierce energy of his own keen nature. He was still,\n",
    "as ever, deeply attracted by the study of crime, and occupied his\n",
    "immense faculties and extraordinary powers of observation in\n",
    "following out those clues, and clearing up those mysteries which\n",
    "had been abandoned as hopeless by the official police. From time\n",
    "to time I heard some vague account of his doings: of his summons\n",
    "to Odessa in the case of the Trepoff murder, of his clearing up\n",
    "of the singular tragedy of the Atkinson brothers at Trincomalee,\n",
    "and finally of the mission which he had accomplished so\n",
    "delicately and successfully for the reigning family of Holland.\n",
    "Beyond these signs of his activity, however, which I merely\n",
    "shared with all the readers of the daily press, I knew little of\n",
    "my former friend and companion.\n",
    "'''"
   ]
  },
  {
   "cell_type": "code",
   "execution_count": 15,
   "metadata": {
    "collapsed": true
   },
   "outputs": [],
   "source": [
    "words = paragraph.split()"
   ]
  },
  {
   "cell_type": "code",
   "execution_count": 16,
   "metadata": {
    "collapsed": false
   },
   "outputs": [
    {
     "data": {
      "text/plain": [
       "['I',\n",
       " 'had',\n",
       " 'seen',\n",
       " 'little',\n",
       " 'of',\n",
       " 'Holmes',\n",
       " 'lately.',\n",
       " 'My',\n",
       " 'marriage',\n",
       " 'had',\n",
       " 'drifted',\n",
       " 'us',\n",
       " 'away',\n",
       " 'from',\n",
       " 'each',\n",
       " 'other.',\n",
       " 'My',\n",
       " 'own',\n",
       " 'complete',\n",
       " 'happiness,',\n",
       " 'and',\n",
       " 'the',\n",
       " 'home-centred',\n",
       " 'interests',\n",
       " 'which',\n",
       " 'rise',\n",
       " 'up',\n",
       " 'around',\n",
       " 'the',\n",
       " 'man',\n",
       " 'who',\n",
       " 'first',\n",
       " 'finds',\n",
       " 'himself',\n",
       " 'master',\n",
       " 'of',\n",
       " 'his',\n",
       " 'own',\n",
       " 'establishment,',\n",
       " 'were',\n",
       " 'sufficient',\n",
       " 'to',\n",
       " 'absorb',\n",
       " 'all',\n",
       " 'my',\n",
       " 'attention,',\n",
       " 'while',\n",
       " 'Holmes,',\n",
       " 'who',\n",
       " 'loathed',\n",
       " 'every',\n",
       " 'form',\n",
       " 'of',\n",
       " 'society',\n",
       " 'with',\n",
       " 'his',\n",
       " 'whole',\n",
       " 'Bohemian',\n",
       " 'soul,',\n",
       " 'remained',\n",
       " 'in',\n",
       " 'our',\n",
       " 'lodgings',\n",
       " 'in',\n",
       " 'Baker',\n",
       " 'Street,',\n",
       " 'buried',\n",
       " 'among',\n",
       " 'his',\n",
       " 'old',\n",
       " 'books,',\n",
       " 'and',\n",
       " 'alternating',\n",
       " 'from',\n",
       " 'week',\n",
       " 'to',\n",
       " 'week',\n",
       " 'between',\n",
       " 'cocaine',\n",
       " 'and',\n",
       " 'ambition,',\n",
       " 'the',\n",
       " 'drowsiness',\n",
       " 'of',\n",
       " 'the',\n",
       " 'drug,',\n",
       " 'and',\n",
       " 'the',\n",
       " 'fierce',\n",
       " 'energy',\n",
       " 'of',\n",
       " 'his',\n",
       " 'own',\n",
       " 'keen',\n",
       " 'nature.',\n",
       " 'He',\n",
       " 'was',\n",
       " 'still,',\n",
       " 'as',\n",
       " 'ever,',\n",
       " 'deeply',\n",
       " 'attracted',\n",
       " 'by',\n",
       " 'the',\n",
       " 'study',\n",
       " 'of',\n",
       " 'crime,',\n",
       " 'and',\n",
       " 'occupied',\n",
       " 'his',\n",
       " 'immense',\n",
       " 'faculties',\n",
       " 'and',\n",
       " 'extraordinary',\n",
       " 'powers',\n",
       " 'of',\n",
       " 'observation',\n",
       " 'in',\n",
       " 'following',\n",
       " 'out',\n",
       " 'those',\n",
       " 'clues,',\n",
       " 'and',\n",
       " 'clearing',\n",
       " 'up',\n",
       " 'those',\n",
       " 'mysteries',\n",
       " 'which',\n",
       " 'had',\n",
       " 'been',\n",
       " 'abandoned',\n",
       " 'as',\n",
       " 'hopeless',\n",
       " 'by',\n",
       " 'the',\n",
       " 'official',\n",
       " 'police.',\n",
       " 'From',\n",
       " 'time',\n",
       " 'to',\n",
       " 'time',\n",
       " 'I',\n",
       " 'heard',\n",
       " 'some',\n",
       " 'vague',\n",
       " 'account',\n",
       " 'of',\n",
       " 'his',\n",
       " 'doings:',\n",
       " 'of',\n",
       " 'his',\n",
       " 'summons',\n",
       " 'to',\n",
       " 'Odessa',\n",
       " 'in',\n",
       " 'the',\n",
       " 'case',\n",
       " 'of',\n",
       " 'the',\n",
       " 'Trepoff',\n",
       " 'murder,',\n",
       " 'of',\n",
       " 'his',\n",
       " 'clearing',\n",
       " 'up',\n",
       " 'of',\n",
       " 'the',\n",
       " 'singular',\n",
       " 'tragedy',\n",
       " 'of',\n",
       " 'the',\n",
       " 'Atkinson',\n",
       " 'brothers',\n",
       " 'at',\n",
       " 'Trincomalee,',\n",
       " 'and',\n",
       " 'finally',\n",
       " 'of',\n",
       " 'the',\n",
       " 'mission',\n",
       " 'which',\n",
       " 'he',\n",
       " 'had',\n",
       " 'accomplished',\n",
       " 'so',\n",
       " 'delicately',\n",
       " 'and',\n",
       " 'successfully',\n",
       " 'for',\n",
       " 'the',\n",
       " 'reigning',\n",
       " 'family',\n",
       " 'of',\n",
       " 'Holland.',\n",
       " 'Beyond',\n",
       " 'these',\n",
       " 'signs',\n",
       " 'of',\n",
       " 'his',\n",
       " 'activity,',\n",
       " 'however,',\n",
       " 'which',\n",
       " 'I',\n",
       " 'merely',\n",
       " 'shared',\n",
       " 'with',\n",
       " 'all',\n",
       " 'the',\n",
       " 'readers',\n",
       " 'of',\n",
       " 'the',\n",
       " 'daily',\n",
       " 'press,',\n",
       " 'I',\n",
       " 'knew',\n",
       " 'little',\n",
       " 'of',\n",
       " 'my',\n",
       " 'former',\n",
       " 'friend',\n",
       " 'and',\n",
       " 'companion.']"
      ]
     },
     "execution_count": 16,
     "metadata": {},
     "output_type": "execute_result"
    }
   ],
   "source": [
    "words"
   ]
  },
  {
   "cell_type": "code",
   "execution_count": 18,
   "metadata": {
    "collapsed": false
   },
   "outputs": [
    {
     "name": "stdout",
     "output_type": "stream",
     "text": [
      "0\n",
      "1\n",
      "2\n",
      "3\n",
      "4\n",
      "5\n",
      "6\n",
      "7\n",
      "8\n",
      "9\n",
      "10\n",
      "11\n",
      "12\n",
      "13\n",
      "14\n",
      "15\n",
      "16\n",
      "17\n",
      "18\n",
      "19\n",
      "20\n",
      "21\n",
      "22\n",
      "23\n",
      "24\n",
      "25\n",
      "26\n",
      "27\n",
      "28\n",
      "29\n",
      "30\n",
      "31\n",
      "32\n",
      "33\n",
      "34\n",
      "35\n",
      "36\n",
      "37\n",
      "38\n",
      "39\n",
      "40\n",
      "41\n",
      "42\n",
      "43\n",
      "44\n",
      "45\n",
      "46\n",
      "47\n",
      "48\n",
      "49\n",
      "50\n",
      "51\n",
      "52\n",
      "53\n",
      "54\n",
      "55\n",
      "56\n",
      "57\n",
      "58\n",
      "59\n",
      "60\n",
      "61\n",
      "62\n",
      "63\n",
      "64\n",
      "65\n",
      "66\n",
      "67\n",
      "68\n",
      "69\n",
      "70\n",
      "71\n",
      "72\n",
      "73\n",
      "74\n",
      "75\n",
      "76\n",
      "77\n",
      "78\n",
      "79\n",
      "80\n",
      "81\n",
      "82\n",
      "83\n",
      "84\n",
      "85\n",
      "86\n",
      "87\n",
      "88\n",
      "89\n",
      "90\n",
      "91\n",
      "92\n",
      "93\n",
      "94\n",
      "95\n",
      "96\n",
      "97\n",
      "98\n",
      "99\n",
      "100\n",
      "101\n",
      "102\n",
      "103\n",
      "104\n",
      "105\n",
      "106\n",
      "107\n",
      "108\n",
      "109\n",
      "110\n",
      "111\n",
      "112\n",
      "113\n",
      "114\n",
      "115\n",
      "116\n",
      "117\n",
      "118\n",
      "119\n",
      "120\n",
      "121\n",
      "122\n",
      "123\n",
      "124\n",
      "125\n",
      "126\n",
      "127\n",
      "128\n",
      "129\n",
      "130\n",
      "131\n",
      "132\n",
      "133\n",
      "134\n",
      "135\n",
      "136\n",
      "137\n",
      "138\n",
      "139\n",
      "140\n",
      "141\n",
      "142\n",
      "143\n",
      "144\n",
      "145\n",
      "146\n",
      "147\n",
      "148\n",
      "149\n",
      "150\n",
      "151\n",
      "152\n",
      "153\n",
      "154\n",
      "155\n",
      "156\n",
      "157\n",
      "158\n",
      "159\n",
      "160\n",
      "161\n",
      "162\n",
      "163\n",
      "164\n",
      "165\n",
      "166\n",
      "167\n",
      "168\n",
      "169\n",
      "170\n",
      "171\n",
      "172\n",
      "173\n",
      "174\n",
      "175\n",
      "176\n",
      "177\n",
      "178\n",
      "179\n",
      "180\n",
      "181\n",
      "182\n",
      "183\n",
      "184\n",
      "185\n",
      "186\n",
      "187\n",
      "188\n",
      "189\n",
      "190\n",
      "191\n",
      "192\n",
      "193\n",
      "194\n",
      "195\n",
      "196\n",
      "197\n",
      "198\n",
      "199\n",
      "200\n",
      "201\n",
      "202\n",
      "203\n",
      "204\n",
      "205\n",
      "206\n",
      "207\n",
      "208\n",
      "209\n",
      "210\n",
      "211\n",
      "212\n",
      "213\n",
      "214\n",
      "215\n",
      "216\n",
      "217\n",
      "218\n",
      "219\n",
      "220\n",
      "221\n"
     ]
    }
   ],
   "source": [
    "index = 0\n",
    "while index < len (words):\n",
    "    print (index)\n",
    "    index += 1 "
   ]
  },
  {
   "cell_type": "code",
   "execution_count": 19,
   "metadata": {
    "collapsed": false
   },
   "outputs": [
    {
     "name": "stdout",
     "output_type": "stream",
     "text": [
      "0 I\n",
      "1 had\n",
      "2 seen\n",
      "3 little\n",
      "4 of\n",
      "5 Holmes\n",
      "6 lately.\n",
      "7 My\n",
      "8 marriage\n",
      "9 had\n",
      "10 drifted\n",
      "11 us\n",
      "12 away\n",
      "13 from\n",
      "14 each\n",
      "15 other.\n",
      "16 My\n",
      "17 own\n",
      "18 complete\n",
      "19 happiness,\n",
      "20 and\n",
      "21 the\n",
      "22 home-centred\n",
      "23 interests\n",
      "24 which\n",
      "25 rise\n",
      "26 up\n",
      "27 around\n",
      "28 the\n",
      "29 man\n",
      "30 who\n",
      "31 first\n",
      "32 finds\n",
      "33 himself\n",
      "34 master\n",
      "35 of\n",
      "36 his\n",
      "37 own\n",
      "38 establishment,\n",
      "39 were\n",
      "40 sufficient\n",
      "41 to\n",
      "42 absorb\n",
      "43 all\n",
      "44 my\n",
      "45 attention,\n",
      "46 while\n",
      "47 Holmes,\n",
      "48 who\n",
      "49 loathed\n",
      "50 every\n",
      "51 form\n",
      "52 of\n",
      "53 society\n",
      "54 with\n",
      "55 his\n",
      "56 whole\n",
      "57 Bohemian\n",
      "58 soul,\n",
      "59 remained\n",
      "60 in\n",
      "61 our\n",
      "62 lodgings\n",
      "63 in\n",
      "64 Baker\n",
      "65 Street,\n",
      "66 buried\n",
      "67 among\n",
      "68 his\n",
      "69 old\n",
      "70 books,\n",
      "71 and\n",
      "72 alternating\n",
      "73 from\n",
      "74 week\n",
      "75 to\n",
      "76 week\n",
      "77 between\n",
      "78 cocaine\n",
      "79 and\n",
      "80 ambition,\n",
      "81 the\n",
      "82 drowsiness\n",
      "83 of\n",
      "84 the\n",
      "85 drug,\n",
      "86 and\n",
      "87 the\n",
      "88 fierce\n",
      "89 energy\n",
      "90 of\n",
      "91 his\n",
      "92 own\n",
      "93 keen\n",
      "94 nature.\n",
      "95 He\n",
      "96 was\n",
      "97 still,\n",
      "98 as\n",
      "99 ever,\n",
      "100 deeply\n",
      "101 attracted\n",
      "102 by\n",
      "103 the\n",
      "104 study\n",
      "105 of\n",
      "106 crime,\n",
      "107 and\n",
      "108 occupied\n",
      "109 his\n",
      "110 immense\n",
      "111 faculties\n",
      "112 and\n",
      "113 extraordinary\n",
      "114 powers\n",
      "115 of\n",
      "116 observation\n",
      "117 in\n",
      "118 following\n",
      "119 out\n",
      "120 those\n",
      "121 clues,\n",
      "122 and\n",
      "123 clearing\n",
      "124 up\n",
      "125 those\n",
      "126 mysteries\n",
      "127 which\n",
      "128 had\n",
      "129 been\n",
      "130 abandoned\n",
      "131 as\n",
      "132 hopeless\n",
      "133 by\n",
      "134 the\n",
      "135 official\n",
      "136 police.\n",
      "137 From\n",
      "138 time\n",
      "139 to\n",
      "140 time\n",
      "141 I\n",
      "142 heard\n",
      "143 some\n",
      "144 vague\n",
      "145 account\n",
      "146 of\n",
      "147 his\n",
      "148 doings:\n",
      "149 of\n",
      "150 his\n",
      "151 summons\n",
      "152 to\n",
      "153 Odessa\n",
      "154 in\n",
      "155 the\n",
      "156 case\n",
      "157 of\n",
      "158 the\n",
      "159 Trepoff\n",
      "160 murder,\n",
      "161 of\n",
      "162 his\n",
      "163 clearing\n",
      "164 up\n",
      "165 of\n",
      "166 the\n",
      "167 singular\n",
      "168 tragedy\n",
      "169 of\n",
      "170 the\n",
      "171 Atkinson\n",
      "172 brothers\n",
      "173 at\n",
      "174 Trincomalee,\n",
      "175 and\n",
      "176 finally\n",
      "177 of\n",
      "178 the\n",
      "179 mission\n",
      "180 which\n",
      "181 he\n",
      "182 had\n",
      "183 accomplished\n",
      "184 so\n",
      "185 delicately\n",
      "186 and\n",
      "187 successfully\n",
      "188 for\n",
      "189 the\n",
      "190 reigning\n",
      "191 family\n",
      "192 of\n",
      "193 Holland.\n",
      "194 Beyond\n",
      "195 these\n",
      "196 signs\n",
      "197 of\n",
      "198 his\n",
      "199 activity,\n",
      "200 however,\n",
      "201 which\n",
      "202 I\n",
      "203 merely\n",
      "204 shared\n",
      "205 with\n",
      "206 all\n",
      "207 the\n",
      "208 readers\n",
      "209 of\n",
      "210 the\n",
      "211 daily\n",
      "212 press,\n",
      "213 I\n",
      "214 knew\n",
      "215 little\n",
      "216 of\n",
      "217 my\n",
      "218 former\n",
      "219 friend\n",
      "220 and\n",
      "221 companion.\n"
     ]
    }
   ],
   "source": [
    "index = 0\n",
    "while index < len (words):\n",
    "    print (index, words[index])\n",
    "    index += 1"
   ]
  },
  {
   "cell_type": "code",
   "execution_count": 30,
   "metadata": {
    "collapsed": false
   },
   "outputs": [
    {
     "data": {
      "text/plain": [
       "{'Harry': 67, 99: 78}"
      ]
     },
     "execution_count": 30,
     "metadata": {},
     "output_type": "execute_result"
    }
   ],
   "source": [
    "freq = {}\n",
    "freq['Harry'] = 67\n",
    "freq[99] = 78\n",
    "freq"
   ]
  },
  {
   "cell_type": "code",
   "execution_count": 31,
   "metadata": {
    "collapsed": true
   },
   "outputs": [],
   "source": [
    "names = ['Harry', 'Ron', 'Hermaine']"
   ]
  },
  {
   "cell_type": "code",
   "execution_count": 32,
   "metadata": {
    "collapsed": true
   },
   "outputs": [],
   "source": [
    "names[0] = 'Neville'"
   ]
  },
  {
   "cell_type": "code",
   "execution_count": 33,
   "metadata": {
    "collapsed": false
   },
   "outputs": [
    {
     "data": {
      "text/plain": [
       "['Neville', 'Ron', 'Hermaine']"
      ]
     },
     "execution_count": 33,
     "metadata": {},
     "output_type": "execute_result"
    }
   ],
   "source": [
    "names"
   ]
  },
  {
   "cell_type": "markdown",
   "metadata": {},
   "source": [
    "- List are mutable/changeable."
   ]
  },
  {
   "cell_type": "code",
   "execution_count": 35,
   "metadata": {
    "collapsed": false
   },
   "outputs": [],
   "source": [
    "name = 'Loojah'"
   ]
  },
  {
   "cell_type": "code",
   "execution_count": 36,
   "metadata": {
    "collapsed": false
   },
   "outputs": [
    {
     "data": {
      "text/plain": [
       "'Loojah'"
      ]
     },
     "execution_count": 36,
     "metadata": {},
     "output_type": "execute_result"
    }
   ],
   "source": [
    "name"
   ]
  },
  {
   "cell_type": "code",
   "execution_count": 37,
   "metadata": {
    "collapsed": false
   },
   "outputs": [
    {
     "data": {
      "text/plain": [
       "'o'"
      ]
     },
     "execution_count": 37,
     "metadata": {},
     "output_type": "execute_result"
    }
   ],
   "source": [
    "name[2]"
   ]
  },
  {
   "cell_type": "code",
   "execution_count": 39,
   "metadata": {
    "collapsed": false
   },
   "outputs": [
    {
     "ename": "TypeError",
     "evalue": "'str' object does not support item assignment",
     "output_type": "error",
     "traceback": [
      "\u001b[0;31m---------------------------------------------------------------------------\u001b[0m",
      "\u001b[0;31mTypeError\u001b[0m                                 Traceback (most recent call last)",
      "\u001b[0;32m<ipython-input-39-efa16708df79>\u001b[0m in \u001b[0;36m<module>\u001b[0;34m()\u001b[0m\n\u001b[0;32m----> 1\u001b[0;31m \u001b[0mname\u001b[0m\u001b[1;33m[\u001b[0m\u001b[1;36m2\u001b[0m\u001b[1;33m]\u001b[0m \u001b[1;33m=\u001b[0m \u001b[1;34m'a'\u001b[0m\u001b[1;33m\u001b[0m\u001b[0m\n\u001b[0m",
      "\u001b[0;31mTypeError\u001b[0m: 'str' object does not support item assignment"
     ]
    }
   ],
   "source": [
    "name[2] = 'a'"
   ]
  },
  {
   "cell_type": "markdown",
   "metadata": {},
   "source": [
    "- String and Numbers are immutable/unchangeable."
   ]
  },
  {
   "cell_type": "code",
   "execution_count": null,
   "metadata": {
    "collapsed": true
   },
   "outputs": [],
   "source": []
  },
  {
   "cell_type": "code",
   "execution_count": null,
   "metadata": {
    "collapsed": true
   },
   "outputs": [],
   "source": []
  },
  {
   "cell_type": "code",
   "execution_count": null,
   "metadata": {
    "collapsed": true
   },
   "outputs": [],
   "source": []
  },
  {
   "cell_type": "code",
   "execution_count": 22,
   "metadata": {
    "collapsed": false
   },
   "outputs": [
    {
     "name": "stdout",
     "output_type": "stream",
     "text": [
      "{'I': 0, 'had': 0, 'seen': 0, 'little': 0, 'of': 0, 'Holmes': 0, 'lately.': 0, 'My': 0, 'marriage': 0, 'drifted': 0, 'us': 0, 'away': 0, 'from': 0, 'each': 0, 'other.': 0, 'own': 0, 'complete': 0, 'happiness,': 0, 'and': 0, 'the': 0, 'home-centred': 0, 'interests': 0, 'which': 0, 'rise': 0, 'up': 0, 'around': 0, 'man': 0, 'who': 0, 'first': 0, 'finds': 0, 'himself': 0, 'master': 0, 'his': 0, 'establishment,': 0, 'were': 0, 'sufficient': 0, 'to': 0, 'absorb': 0, 'all': 0, 'my': 0, 'attention,': 0, 'while': 0, 'Holmes,': 0, 'loathed': 0, 'every': 0, 'form': 0, 'society': 0, 'with': 0, 'whole': 0, 'Bohemian': 0, 'soul,': 0, 'remained': 0, 'in': 0, 'our': 0, 'lodgings': 0, 'Baker': 0, 'Street,': 0, 'buried': 0, 'among': 0, 'old': 0, 'books,': 0, 'alternating': 0, 'week': 0, 'between': 0, 'cocaine': 0, 'ambition,': 0, 'drowsiness': 0, 'drug,': 0, 'fierce': 0, 'energy': 0, 'keen': 0, 'nature.': 0, 'He': 0, 'was': 0, 'still,': 0, 'as': 0, 'ever,': 0, 'deeply': 0, 'attracted': 0, 'by': 0, 'study': 0, 'crime,': 0, 'occupied': 0, 'immense': 0, 'faculties': 0, 'extraordinary': 0, 'powers': 0, 'observation': 0, 'following': 0, 'out': 0, 'those': 0, 'clues,': 0, 'clearing': 0, 'mysteries': 0, 'been': 0, 'abandoned': 0, 'hopeless': 0, 'official': 0, 'police.': 0, 'From': 0, 'time': 0, 'heard': 0, 'some': 0, 'vague': 0, 'account': 0, 'doings:': 0, 'summons': 0, 'Odessa': 0, 'case': 0, 'Trepoff': 0, 'murder,': 0, 'singular': 0, 'tragedy': 0, 'Atkinson': 0, 'brothers': 0, 'at': 0, 'Trincomalee,': 0, 'finally': 0, 'mission': 0, 'he': 0, 'accomplished': 0, 'so': 0, 'delicately': 0, 'successfully': 0, 'for': 0, 'reigning': 0, 'family': 0, 'Holland.': 0, 'Beyond': 0, 'these': 0, 'signs': 0, 'activity,': 0, 'however,': 0, 'merely': 0, 'shared': 0, 'readers': 0, 'daily': 0, 'press,': 0, 'knew': 0, 'former': 0, 'friend': 0, 'companion.': 0}\n"
     ]
    }
   ],
   "source": [
    "freq = {}\n",
    "index = 0\n",
    "while index < len (words):\n",
    "    freq[words[index]] = 0\n",
    "    index += 1\n",
    "print (freq)"
   ]
  },
  {
   "cell_type": "code",
   "execution_count": 23,
   "metadata": {
    "collapsed": false
   },
   "outputs": [
    {
     "name": "stdout",
     "output_type": "stream",
     "text": [
      "{'i': 0, 'had': 0, 'seen': 0, 'little': 0, 'of': 0, 'holmes': 0, 'lately.': 0, 'my': 0, 'marriage': 0, 'drifted': 0, 'us': 0, 'away': 0, 'from': 0, 'each': 0, 'other.': 0, 'own': 0, 'complete': 0, 'happiness,': 0, 'and': 0, 'the': 0, 'home-centred': 0, 'interests': 0, 'which': 0, 'rise': 0, 'up': 0, 'around': 0, 'man': 0, 'who': 0, 'first': 0, 'finds': 0, 'himself': 0, 'master': 0, 'his': 0, 'establishment,': 0, 'were': 0, 'sufficient': 0, 'to': 0, 'absorb': 0, 'all': 0, 'attention,': 0, 'while': 0, 'holmes,': 0, 'loathed': 0, 'every': 0, 'form': 0, 'society': 0, 'with': 0, 'whole': 0, 'bohemian': 0, 'soul,': 0, 'remained': 0, 'in': 0, 'our': 0, 'lodgings': 0, 'baker': 0, 'street,': 0, 'buried': 0, 'among': 0, 'old': 0, 'books,': 0, 'alternating': 0, 'week': 0, 'between': 0, 'cocaine': 0, 'ambition,': 0, 'drowsiness': 0, 'drug,': 0, 'fierce': 0, 'energy': 0, 'keen': 0, 'nature.': 0, 'he': 0, 'was': 0, 'still,': 0, 'as': 0, 'ever,': 0, 'deeply': 0, 'attracted': 0, 'by': 0, 'study': 0, 'crime,': 0, 'occupied': 0, 'immense': 0, 'faculties': 0, 'extraordinary': 0, 'powers': 0, 'observation': 0, 'following': 0, 'out': 0, 'those': 0, 'clues,': 0, 'clearing': 0, 'mysteries': 0, 'been': 0, 'abandoned': 0, 'hopeless': 0, 'official': 0, 'police.': 0, 'time': 0, 'heard': 0, 'some': 0, 'vague': 0, 'account': 0, 'doings:': 0, 'summons': 0, 'odessa': 0, 'case': 0, 'trepoff': 0, 'murder,': 0, 'singular': 0, 'tragedy': 0, 'atkinson': 0, 'brothers': 0, 'at': 0, 'trincomalee,': 0, 'finally': 0, 'mission': 0, 'accomplished': 0, 'so': 0, 'delicately': 0, 'successfully': 0, 'for': 0, 'reigning': 0, 'family': 0, 'holland.': 0, 'beyond': 0, 'these': 0, 'signs': 0, 'activity,': 0, 'however,': 0, 'merely': 0, 'shared': 0, 'readers': 0, 'daily': 0, 'press,': 0, 'knew': 0, 'former': 0, 'friend': 0, 'companion.': 0}\n"
     ]
    }
   ],
   "source": [
    "freq = {}\n",
    "index = 0\n",
    "while index < len (words):\n",
    "    freq[words[index].lower()] = 0\n",
    "    index += 1\n",
    "print (freq)"
   ]
  },
  {
   "cell_type": "code",
   "execution_count": 29,
   "metadata": {
    "collapsed": false
   },
   "outputs": [
    {
     "name": "stdout",
     "output_type": "stream",
     "text": [
      "{'i': 0, 'had': 0, 'seen': 0, 'little': 0, 'of': 0, 'holmes': 0, 'lately.': 0, 'my': 0, 'marriage': 0, 'drifted': 0, 'us': 0, 'away': 0, 'from': 0, 'each': 0, 'other.': 0, 'own': 0, 'complete': 0, 'happiness,': 0, 'and': 0, 'the': 0, 'home-centred': 0, 'interests': 0, 'which': 0, 'rise': 0, 'up': 0, 'around': 0, 'man': 0, 'who': 0, 'first': 0, 'finds': 0, 'himself': 0, 'master': 0, 'his': 0, 'establishment,': 0, 'were': 0, 'sufficient': 0, 'to': 0, 'absorb': 0, 'all': 0, 'attention,': 0, 'while': 0, 'holmes,': 0, 'loathed': 0, 'every': 0, 'form': 0, 'society': 0, 'with': 0, 'whole': 0, 'bohemian': 0, 'soul,': 0, 'remained': 0, 'in': 0, 'our': 0, 'lodgings': 0, 'baker': 0, 'street,': 0, 'buried': 0, 'among': 0, 'old': 0, 'books,': 0, 'alternating': 0, 'week': 0, 'between': 0, 'cocaine': 0, 'ambition,': 0, 'drowsiness': 0, 'drug,': 0, 'fierce': 0, 'energy': 0, 'keen': 0, 'nature.': 0, 'he': 0, 'was': 0, 'still,': 0, 'as': 0, 'ever,': 0, 'deeply': 0, 'attracted': 0, 'by': 0, 'study': 0, 'crime,': 0, 'occupied': 0, 'immense': 0, 'faculties': 0, 'extraordinary': 0, 'powers': 0, 'observation': 0, 'following': 0, 'out': 0, 'those': 0, 'clues,': 0, 'clearing': 0, 'mysteries': 0, 'been': 0, 'abandoned': 0, 'hopeless': 0, 'official': 0, 'police.': 0, 'time': 0, 'heard': 0, 'some': 0, 'vague': 0, 'account': 0, 'doings:': 0, 'summons': 0, 'odessa': 0, 'case': 0, 'trepoff': 0, 'murder,': 0, 'singular': 0, 'tragedy': 0, 'atkinson': 0, 'brothers': 0, 'at': 0, 'trincomalee,': 0, 'finally': 0, 'mission': 0, 'accomplished': 0, 'so': 0, 'delicately': 0, 'successfully': 0, 'for': 0, 'reigning': 0, 'family': 0, 'holland.': 0, 'beyond': 0, 'these': 0, 'signs': 0, 'activity,': 0, 'however,': 0, 'merely': 0, 'shared': 0, 'readers': 0, 'daily': 0, 'press,': 0, 'knew': 0, 'former': 0, 'friend': 0, 'companion.': 0}\n"
     ]
    }
   ],
   "source": [
    "freq = {}\n",
    "index = 0\n",
    "while index < len (words):\n",
    "    word = words[index].lower()\n",
    "#    print (word)\n",
    "    freq[word] = 0\n",
    "    index += 1\n",
    "print (freq)"
   ]
  },
  {
   "cell_type": "code",
   "execution_count": 43,
   "metadata": {
    "collapsed": false
   },
   "outputs": [
    {
     "name": "stdout",
     "output_type": "stream",
     "text": [
      "{'i': 0, 'had': 0, 'seen': 0, 'little': 0, 'of': 0, 'holmes': 0, 'lately': 0, 'my': 0, 'marriage': 0, 'drifted': 0, 'us': 0, 'away': 0, 'from': 0, 'each': 0, 'other': 0, 'own': 0, 'complete': 0, 'happiness': 0, 'and': 0, 'the': 0, 'home-centred': 0, 'interests': 0, 'which': 0, 'rise': 0, 'up': 0, 'around': 0, 'man': 0, 'who': 0, 'first': 0, 'finds': 0, 'himself': 0, 'master': 0, 'his': 0, 'establishment': 0, 'were': 0, 'sufficient': 0, 'to': 0, 'absorb': 0, 'all': 0, 'attention': 0, 'while': 0, 'loathed': 0, 'every': 0, 'form': 0, 'society': 0, 'with': 0, 'whole': 0, 'bohemian': 0, 'soul': 0, 'remained': 0, 'in': 0, 'our': 0, 'lodgings': 0, 'baker': 0, 'street': 0, 'buried': 0, 'among': 0, 'old': 0, 'books': 0, 'alternating': 0, 'week': 0, 'between': 0, 'cocaine': 0, 'ambition': 0, 'drowsiness': 0, 'drug': 0, 'fierce': 0, 'energy': 0, 'keen': 0, 'nature': 0, 'he': 0, 'was': 0, 'still': 0, 'as': 0, 'ever': 0, 'deeply': 0, 'attracted': 0, 'by': 0, 'study': 0, 'crime': 0, 'occupied': 0, 'immense': 0, 'faculties': 0, 'extraordinary': 0, 'powers': 0, 'observation': 0, 'following': 0, 'out': 0, 'those': 0, 'clues': 0, 'clearing': 0, 'mysteries': 0, 'been': 0, 'abandoned': 0, 'hopeless': 0, 'official': 0, 'police': 0, 'time': 0, 'heard': 0, 'some': 0, 'vague': 0, 'account': 0, 'doings:': 0, 'summons': 0, 'odessa': 0, 'case': 0, 'trepoff': 0, 'murder': 0, 'singular': 0, 'tragedy': 0, 'atkinson': 0, 'brothers': 0, 'at': 0, 'trincomalee': 0, 'finally': 0, 'mission': 0, 'accomplished': 0, 'so': 0, 'delicately': 0, 'successfully': 0, 'for': 0, 'reigning': 0, 'family': 0, 'holland': 0, 'beyond': 0, 'these': 0, 'signs': 0, 'activity': 0, 'however': 0, 'merely': 0, 'shared': 0, 'readers': 0, 'daily': 0, 'press': 0, 'knew': 0, 'former': 0, 'friend': 0, 'companion': 0}\n"
     ]
    }
   ],
   "source": [
    "freq = {}\n",
    "index = 0\n",
    "while index < len (words):\n",
    "    word = words[index].strip('.').strip(',').lower()\n",
    "    # word = words[index]\n",
    "    # word = word.strip('.')\n",
    "    # word = word.strip (',')\n",
    "    # word = word.lower()\n",
    "    freq[word] = 0\n",
    "    index += 1\n",
    "print (freq)"
   ]
  },
  {
   "cell_type": "code",
   "execution_count": 49,
   "metadata": {
    "collapsed": false
   },
   "outputs": [
    {
     "name": "stdout",
     "output_type": "stream",
     "text": [
      "{'i': 4, 'had': 4, 'seen': 1, 'little': 2, 'of': 18, 'holmes': 2, 'lately': 1, 'my': 4, 'marriage': 1, 'drifted': 1, 'us': 1, 'away': 1, 'from': 3, 'each': 1, 'other': 1, 'own': 3, 'complete': 1, 'happiness': 1, 'and': 10, 'the': 15, 'home-centred': 1, 'interests': 1, 'which': 4, 'rise': 1, 'up': 3, 'around': 1, 'man': 1, 'who': 2, 'first': 1, 'finds': 1, 'himself': 1, 'master': 1, 'his': 9, 'establishment': 1, 'were': 1, 'sufficient': 1, 'to': 4, 'absorb': 1, 'all': 2, 'attention': 1, 'while': 1, 'loathed': 1, 'every': 1, 'form': 1, 'society': 1, 'with': 2, 'whole': 1, 'bohemian': 1, 'soul': 1, 'remained': 1, 'in': 4, 'our': 1, 'lodgings': 1, 'baker': 1, 'street': 1, 'buried': 1, 'among': 1, 'old': 1, 'books': 1, 'alternating': 1, 'week': 2, 'between': 1, 'cocaine': 1, 'ambition': 1, 'drowsiness': 1, 'drug': 1, 'fierce': 1, 'energy': 1, 'keen': 1, 'nature': 1, 'he': 2, 'was': 1, 'still': 1, 'as': 2, 'ever': 1, 'deeply': 1, 'attracted': 1, 'by': 2, 'study': 1, 'crime': 1, 'occupied': 1, 'immense': 1, 'faculties': 1, 'extraordinary': 1, 'powers': 1, 'observation': 1, 'following': 1, 'out': 1, 'those': 2, 'clues': 1, 'clearing': 2, 'mysteries': 1, 'been': 1, 'abandoned': 1, 'hopeless': 1, 'official': 1, 'police': 1, 'time': 2, 'heard': 1, 'some': 1, 'vague': 1, 'account': 1, 'doings:': 1, 'summons': 1, 'odessa': 1, 'case': 1, 'trepoff': 1, 'murder': 1, 'singular': 1, 'tragedy': 1, 'atkinson': 1, 'brothers': 1, 'at': 1, 'trincomalee': 1, 'finally': 1, 'mission': 1, 'accomplished': 1, 'so': 1, 'delicately': 1, 'successfully': 1, 'for': 1, 'reigning': 1, 'family': 1, 'holland': 1, 'beyond': 1, 'these': 1, 'signs': 1, 'activity': 1, 'however': 1, 'merely': 1, 'shared': 1, 'readers': 1, 'daily': 1, 'press': 1, 'knew': 1, 'former': 1, 'friend': 1, 'companion': 1}\n"
     ]
    }
   ],
   "source": [
    "freq = {}\n",
    "index = 0\n",
    "while index < len (words):\n",
    "    word = words[index].strip('.').strip(',').lower()\n",
    "    if word in freq:\n",
    "        freq[word] += 1\n",
    "    else:\n",
    "        freq [word] = 1\n",
    "    index += 1\n",
    "print (freq)          "
   ]
  },
  {
   "cell_type": "code",
   "execution_count": 52,
   "metadata": {
    "collapsed": false
   },
   "outputs": [
    {
     "name": "stdout",
     "output_type": "stream",
     "text": [
      "i\n",
      "had\n",
      "seen\n",
      "little\n",
      "of\n",
      "holmes\n",
      "lately\n",
      "my\n",
      "marriage\n",
      "drifted\n",
      "us\n",
      "away\n",
      "from\n",
      "each\n",
      "other\n",
      "own\n",
      "complete\n",
      "happiness\n",
      "and\n",
      "the\n",
      "home-centred\n",
      "interests\n",
      "which\n",
      "rise\n",
      "up\n",
      "around\n",
      "man\n",
      "who\n",
      "first\n",
      "finds\n",
      "himself\n",
      "master\n",
      "his\n",
      "establishment\n",
      "were\n",
      "sufficient\n",
      "to\n",
      "absorb\n",
      "all\n",
      "attention\n",
      "while\n",
      "loathed\n",
      "every\n",
      "form\n",
      "society\n",
      "with\n",
      "whole\n",
      "bohemian\n",
      "soul\n",
      "remained\n",
      "in\n",
      "our\n",
      "lodgings\n",
      "baker\n",
      "street\n",
      "buried\n",
      "among\n",
      "old\n",
      "books\n",
      "alternating\n",
      "week\n",
      "between\n",
      "cocaine\n",
      "ambition\n",
      "drowsiness\n",
      "drug\n",
      "fierce\n",
      "energy\n",
      "keen\n",
      "nature\n",
      "he\n",
      "was\n",
      "still\n",
      "as\n",
      "ever\n",
      "deeply\n",
      "attracted\n",
      "by\n",
      "study\n",
      "crime\n",
      "occupied\n",
      "immense\n",
      "faculties\n",
      "extraordinary\n",
      "powers\n",
      "observation\n",
      "following\n",
      "out\n",
      "those\n",
      "clues\n",
      "clearing\n",
      "mysteries\n",
      "been\n",
      "abandoned\n",
      "hopeless\n",
      "official\n",
      "police\n",
      "time\n",
      "heard\n",
      "some\n",
      "vague\n",
      "account\n",
      "doings:\n",
      "summons\n",
      "odessa\n",
      "case\n",
      "trepoff\n",
      "murder\n",
      "singular\n",
      "tragedy\n",
      "atkinson\n",
      "brothers\n",
      "at\n",
      "trincomalee\n",
      "finally\n",
      "mission\n",
      "accomplished\n",
      "so\n",
      "delicately\n",
      "successfully\n",
      "for\n",
      "reigning\n",
      "family\n",
      "holland\n",
      "beyond\n",
      "these\n",
      "signs\n",
      "activity\n",
      "however\n",
      "merely\n",
      "shared\n",
      "readers\n",
      "daily\n",
      "press\n",
      "knew\n",
      "former\n",
      "friend\n",
      "companion\n"
     ]
    }
   ],
   "source": [
    "for item in freq:\n",
    "    print (item)"
   ]
  },
  {
   "cell_type": "code",
   "execution_count": 54,
   "metadata": {
    "collapsed": false
   },
   "outputs": [
    {
     "name": "stdout",
     "output_type": "stream",
     "text": [
      "Paragraph has 4 \"i\"\n",
      "Paragraph has 4 \"had\"\n",
      "Paragraph has 1 \"seen\"\n",
      "Paragraph has 2 \"little\"\n",
      "Paragraph has 18 \"of\"\n",
      "Paragraph has 2 \"holmes\"\n",
      "Paragraph has 1 \"lately\"\n",
      "Paragraph has 4 \"my\"\n",
      "Paragraph has 1 \"marriage\"\n",
      "Paragraph has 1 \"drifted\"\n",
      "Paragraph has 1 \"us\"\n",
      "Paragraph has 1 \"away\"\n",
      "Paragraph has 3 \"from\"\n",
      "Paragraph has 1 \"each\"\n",
      "Paragraph has 1 \"other\"\n",
      "Paragraph has 3 \"own\"\n",
      "Paragraph has 1 \"complete\"\n",
      "Paragraph has 1 \"happiness\"\n",
      "Paragraph has 10 \"and\"\n",
      "Paragraph has 15 \"the\"\n",
      "Paragraph has 1 \"home-centred\"\n",
      "Paragraph has 1 \"interests\"\n",
      "Paragraph has 4 \"which\"\n",
      "Paragraph has 1 \"rise\"\n",
      "Paragraph has 3 \"up\"\n",
      "Paragraph has 1 \"around\"\n",
      "Paragraph has 1 \"man\"\n",
      "Paragraph has 2 \"who\"\n",
      "Paragraph has 1 \"first\"\n",
      "Paragraph has 1 \"finds\"\n",
      "Paragraph has 1 \"himself\"\n",
      "Paragraph has 1 \"master\"\n",
      "Paragraph has 9 \"his\"\n",
      "Paragraph has 1 \"establishment\"\n",
      "Paragraph has 1 \"were\"\n",
      "Paragraph has 1 \"sufficient\"\n",
      "Paragraph has 4 \"to\"\n",
      "Paragraph has 1 \"absorb\"\n",
      "Paragraph has 2 \"all\"\n",
      "Paragraph has 1 \"attention\"\n",
      "Paragraph has 1 \"while\"\n",
      "Paragraph has 1 \"loathed\"\n",
      "Paragraph has 1 \"every\"\n",
      "Paragraph has 1 \"form\"\n",
      "Paragraph has 1 \"society\"\n",
      "Paragraph has 2 \"with\"\n",
      "Paragraph has 1 \"whole\"\n",
      "Paragraph has 1 \"bohemian\"\n",
      "Paragraph has 1 \"soul\"\n",
      "Paragraph has 1 \"remained\"\n",
      "Paragraph has 4 \"in\"\n",
      "Paragraph has 1 \"our\"\n",
      "Paragraph has 1 \"lodgings\"\n",
      "Paragraph has 1 \"baker\"\n",
      "Paragraph has 1 \"street\"\n",
      "Paragraph has 1 \"buried\"\n",
      "Paragraph has 1 \"among\"\n",
      "Paragraph has 1 \"old\"\n",
      "Paragraph has 1 \"books\"\n",
      "Paragraph has 1 \"alternating\"\n",
      "Paragraph has 2 \"week\"\n",
      "Paragraph has 1 \"between\"\n",
      "Paragraph has 1 \"cocaine\"\n",
      "Paragraph has 1 \"ambition\"\n",
      "Paragraph has 1 \"drowsiness\"\n",
      "Paragraph has 1 \"drug\"\n",
      "Paragraph has 1 \"fierce\"\n",
      "Paragraph has 1 \"energy\"\n",
      "Paragraph has 1 \"keen\"\n",
      "Paragraph has 1 \"nature\"\n",
      "Paragraph has 2 \"he\"\n",
      "Paragraph has 1 \"was\"\n",
      "Paragraph has 1 \"still\"\n",
      "Paragraph has 2 \"as\"\n",
      "Paragraph has 1 \"ever\"\n",
      "Paragraph has 1 \"deeply\"\n",
      "Paragraph has 1 \"attracted\"\n",
      "Paragraph has 2 \"by\"\n",
      "Paragraph has 1 \"study\"\n",
      "Paragraph has 1 \"crime\"\n",
      "Paragraph has 1 \"occupied\"\n",
      "Paragraph has 1 \"immense\"\n",
      "Paragraph has 1 \"faculties\"\n",
      "Paragraph has 1 \"extraordinary\"\n",
      "Paragraph has 1 \"powers\"\n",
      "Paragraph has 1 \"observation\"\n",
      "Paragraph has 1 \"following\"\n",
      "Paragraph has 1 \"out\"\n",
      "Paragraph has 2 \"those\"\n",
      "Paragraph has 1 \"clues\"\n",
      "Paragraph has 2 \"clearing\"\n",
      "Paragraph has 1 \"mysteries\"\n",
      "Paragraph has 1 \"been\"\n",
      "Paragraph has 1 \"abandoned\"\n",
      "Paragraph has 1 \"hopeless\"\n",
      "Paragraph has 1 \"official\"\n",
      "Paragraph has 1 \"police\"\n",
      "Paragraph has 2 \"time\"\n",
      "Paragraph has 1 \"heard\"\n",
      "Paragraph has 1 \"some\"\n",
      "Paragraph has 1 \"vague\"\n",
      "Paragraph has 1 \"account\"\n",
      "Paragraph has 1 \"doings:\"\n",
      "Paragraph has 1 \"summons\"\n",
      "Paragraph has 1 \"odessa\"\n",
      "Paragraph has 1 \"case\"\n",
      "Paragraph has 1 \"trepoff\"\n",
      "Paragraph has 1 \"murder\"\n",
      "Paragraph has 1 \"singular\"\n",
      "Paragraph has 1 \"tragedy\"\n",
      "Paragraph has 1 \"atkinson\"\n",
      "Paragraph has 1 \"brothers\"\n",
      "Paragraph has 1 \"at\"\n",
      "Paragraph has 1 \"trincomalee\"\n",
      "Paragraph has 1 \"finally\"\n",
      "Paragraph has 1 \"mission\"\n",
      "Paragraph has 1 \"accomplished\"\n",
      "Paragraph has 1 \"so\"\n",
      "Paragraph has 1 \"delicately\"\n",
      "Paragraph has 1 \"successfully\"\n",
      "Paragraph has 1 \"for\"\n",
      "Paragraph has 1 \"reigning\"\n",
      "Paragraph has 1 \"family\"\n",
      "Paragraph has 1 \"holland\"\n",
      "Paragraph has 1 \"beyond\"\n",
      "Paragraph has 1 \"these\"\n",
      "Paragraph has 1 \"signs\"\n",
      "Paragraph has 1 \"activity\"\n",
      "Paragraph has 1 \"however\"\n",
      "Paragraph has 1 \"merely\"\n",
      "Paragraph has 1 \"shared\"\n",
      "Paragraph has 1 \"readers\"\n",
      "Paragraph has 1 \"daily\"\n",
      "Paragraph has 1 \"press\"\n",
      "Paragraph has 1 \"knew\"\n",
      "Paragraph has 1 \"former\"\n",
      "Paragraph has 1 \"friend\"\n",
      "Paragraph has 1 \"companion\"\n"
     ]
    }
   ],
   "source": [
    "for item in freq:\n",
    "    print ('Paragraph has {} \"{}\"'.format(freq[item],item))"
   ]
  },
  {
   "cell_type": "code",
   "execution_count": null,
   "metadata": {
    "collapsed": true
   },
   "outputs": [],
   "source": []
  },
  {
   "cell_type": "code",
   "execution_count": null,
   "metadata": {
    "collapsed": true
   },
   "outputs": [],
   "source": []
  },
  {
   "cell_type": "code",
   "execution_count": 45,
   "metadata": {
    "collapsed": true
   },
   "outputs": [],
   "source": [
    "nfreq = {'A':6, 'B':5}"
   ]
  },
  {
   "cell_type": "code",
   "execution_count": 46,
   "metadata": {
    "collapsed": false
   },
   "outputs": [
    {
     "ename": "KeyError",
     "evalue": "'C'",
     "output_type": "error",
     "traceback": [
      "\u001b[0;31m---------------------------------------------------------------------------\u001b[0m",
      "\u001b[0;31mKeyError\u001b[0m                                  Traceback (most recent call last)",
      "\u001b[0;32m<ipython-input-46-2bcfabb9ad79>\u001b[0m in \u001b[0;36m<module>\u001b[0;34m()\u001b[0m\n\u001b[0;32m----> 1\u001b[0;31m \u001b[0mnfreq\u001b[0m \u001b[1;33m[\u001b[0m\u001b[1;34m'C'\u001b[0m\u001b[1;33m]\u001b[0m\u001b[1;33m\u001b[0m\u001b[0m\n\u001b[0m",
      "\u001b[0;31mKeyError\u001b[0m: 'C'"
     ]
    }
   ],
   "source": [
    "nfreq ['C']"
   ]
  },
  {
   "cell_type": "markdown",
   "metadata": {},
   "source": [
    "- *Boolean*"
   ]
  },
  {
   "cell_type": "code",
   "execution_count": 47,
   "metadata": {
    "collapsed": false
   },
   "outputs": [
    {
     "data": {
      "text/plain": [
       "False"
      ]
     },
     "execution_count": 47,
     "metadata": {},
     "output_type": "execute_result"
    }
   ],
   "source": [
    "'C' in nfreq"
   ]
  },
  {
   "cell_type": "code",
   "execution_count": 48,
   "metadata": {
    "collapsed": false
   },
   "outputs": [
    {
     "data": {
      "text/plain": [
       "True"
      ]
     },
     "execution_count": 48,
     "metadata": {},
     "output_type": "execute_result"
    }
   ],
   "source": [
    "'B' in nfreq"
   ]
  },
  {
   "cell_type": "code",
   "execution_count": null,
   "metadata": {
    "collapsed": true
   },
   "outputs": [],
   "source": []
  }
 ],
 "metadata": {
  "kernelspec": {
   "display_name": "Python 3",
   "language": "python",
   "name": "python3"
  },
  "language_info": {
   "codemirror_mode": {
    "name": "ipython",
    "version": 3
   },
   "file_extension": ".py",
   "mimetype": "text/x-python",
   "name": "python",
   "nbconvert_exporter": "python",
   "pygments_lexer": "ipython3",
   "version": "3.6.0"
  }
 },
 "nbformat": 4,
 "nbformat_minor": 2
}
