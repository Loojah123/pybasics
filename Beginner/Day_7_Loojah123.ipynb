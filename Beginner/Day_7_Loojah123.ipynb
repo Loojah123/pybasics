{
 "cells": [
  {
   "cell_type": "markdown",
   "metadata": {},
   "source": [
    "# Day 7 ###\n",
    "---\n",
    "- Numpy Intro\n",
    "- List/Dict/Set Comprehension"
   ]
  },
  {
   "cell_type": "markdown",
   "metadata": {},
   "source": [
    "Numeric Python - Numpy (functions of Matlab)"
   ]
  },
  {
   "cell_type": "code",
   "execution_count": 44,
   "metadata": {
    "collapsed": true
   },
   "outputs": [],
   "source": [
    "import numpy as np"
   ]
  },
  {
   "cell_type": "code",
   "execution_count": 45,
   "metadata": {
    "collapsed": false
   },
   "outputs": [
    {
     "data": {
      "text/plain": [
       "-0.98803162409286183"
      ]
     },
     "execution_count": 45,
     "metadata": {},
     "output_type": "execute_result"
    }
   ],
   "source": [
    "np.sin(30)"
   ]
  },
  {
   "cell_type": "code",
   "execution_count": 46,
   "metadata": {
    "collapsed": false
   },
   "outputs": [
    {
     "data": {
      "text/plain": [
       "[0.0,\n",
       " 0.8414709848078965,\n",
       " 0.90929742682568171,\n",
       " 0.14112000805986721,\n",
       " -0.7568024953079282,\n",
       " -0.95892427466313845,\n",
       " -0.27941549819892586,\n",
       " 0.65698659871878906,\n",
       " 0.98935824662338179,\n",
       " 0.41211848524175659,\n",
       " -0.54402111088936977,\n",
       " -0.99999020655070348,\n",
       " -0.53657291800043494,\n",
       " 0.42016703682664092,\n",
       " 0.99060735569487035,\n",
       " 0.65028784015711683,\n",
       " -0.2879033166650653,\n",
       " -0.96139749187955681,\n",
       " -0.75098724677167616,\n",
       " 0.14987720966295234,\n",
       " 0.91294525072762767,\n",
       " 0.83665563853605607,\n",
       " -0.0088513092904038762,\n",
       " -0.84622040417517064,\n",
       " -0.90557836200662378,\n",
       " -0.13235175009777303,\n",
       " 0.76255845047960269,\n",
       " 0.95637592840450303,\n",
       " 0.27090578830786904,\n",
       " -0.66363388421296754,\n",
       " -0.98803162409286183,\n",
       " -0.40403764532306502,\n",
       " 0.55142668124169059,\n",
       " 0.99991186010726718,\n",
       " 0.52908268612002385,\n",
       " -0.42818266949615102,\n",
       " -0.99177885344311578,\n",
       " -0.6435381333569995,\n",
       " 0.29636857870938532,\n",
       " 0.96379538628408779,\n",
       " 0.74511316047934883,\n",
       " -0.15862266880470899,\n",
       " -0.91652154791563378,\n",
       " -0.8317747426285983,\n",
       " 0.017701925105413577,\n",
       " 0.85090352453411844,\n",
       " 0.90178834764880922,\n",
       " 0.123573122745224,\n",
       " -0.76825466132366682,\n",
       " -0.95375265275947185,\n",
       " -0.26237485370392877,\n",
       " 0.67022917584337471,\n",
       " 0.98662759204048534,\n",
       " 0.39592515018183416,\n",
       " -0.55878904885161629,\n",
       " -0.99975517335861985,\n",
       " -0.52155100208691185,\n",
       " 0.43616475524782494,\n",
       " 0.99287264808453712,\n",
       " 0.63673800713913786,\n",
       " -0.30481062110221668,\n",
       " -0.96611777000839294,\n",
       " -0.73918069664922281,\n",
       " 0.16735570030280691,\n",
       " 0.92002603819679074,\n",
       " 0.82682867949010341,\n",
       " -0.026551154023966794,\n",
       " -0.85551997897532228,\n",
       " -0.8979276806892913,\n",
       " -0.11478481378318722,\n",
       " 0.77389068155788909,\n",
       " 0.95105465325437466,\n",
       " 0.25382336276203626,\n",
       " -0.67677195688730762,\n",
       " -0.98514626046824738,\n",
       " -0.38778163540943045,\n",
       " 0.56610763689818033,\n",
       " 0.99952015858073129,\n",
       " 0.51397845598753522,\n",
       " -0.44411266870750837,\n",
       " -0.99388865392337522,\n",
       " -0.62988799427445386,\n",
       " 0.31322878243308516,\n",
       " 0.96836446110018537,\n",
       " 0.73319032007329221,\n",
       " -0.17607561994858709,\n",
       " -0.92345844700405977,\n",
       " -0.82181783663082253,\n",
       " 0.03539830273366068,\n",
       " 0.86006940581245317,\n",
       " 0.89399666360055785]"
      ]
     },
     "execution_count": 46,
     "metadata": {},
     "output_type": "execute_result"
    }
   ],
   "source": [
    "calculated = []\n",
    "for deg in range(0, 91):\n",
    "    calculated.append(np.sin(deg))\n",
    "calculated"
   ]
  },
  {
   "cell_type": "code",
   "execution_count": 47,
   "metadata": {
    "collapsed": false
   },
   "outputs": [
    {
     "data": {
      "text/plain": [
       "[0.0,\n",
       " 0.8414709848078965,\n",
       " 0.90929742682568171,\n",
       " 0.14112000805986721,\n",
       " -0.7568024953079282,\n",
       " -0.95892427466313845,\n",
       " -0.27941549819892586,\n",
       " 0.65698659871878906,\n",
       " 0.98935824662338179,\n",
       " 0.41211848524175659,\n",
       " -0.54402111088936977,\n",
       " -0.99999020655070348,\n",
       " -0.53657291800043494,\n",
       " 0.42016703682664092,\n",
       " 0.99060735569487035,\n",
       " 0.65028784015711683,\n",
       " -0.2879033166650653,\n",
       " -0.96139749187955681,\n",
       " -0.75098724677167616,\n",
       " 0.14987720966295234,\n",
       " 0.91294525072762767,\n",
       " 0.83665563853605607,\n",
       " -0.0088513092904038762,\n",
       " -0.84622040417517064,\n",
       " -0.90557836200662378,\n",
       " -0.13235175009777303,\n",
       " 0.76255845047960269,\n",
       " 0.95637592840450303,\n",
       " 0.27090578830786904,\n",
       " -0.66363388421296754,\n",
       " -0.98803162409286183,\n",
       " -0.40403764532306502,\n",
       " 0.55142668124169059,\n",
       " 0.99991186010726718,\n",
       " 0.52908268612002385,\n",
       " -0.42818266949615102,\n",
       " -0.99177885344311578,\n",
       " -0.6435381333569995,\n",
       " 0.29636857870938532,\n",
       " 0.96379538628408779,\n",
       " 0.74511316047934883,\n",
       " -0.15862266880470899,\n",
       " -0.91652154791563378,\n",
       " -0.8317747426285983,\n",
       " 0.017701925105413577,\n",
       " 0.85090352453411844,\n",
       " 0.90178834764880922,\n",
       " 0.123573122745224,\n",
       " -0.76825466132366682,\n",
       " -0.95375265275947185,\n",
       " -0.26237485370392877,\n",
       " 0.67022917584337471,\n",
       " 0.98662759204048534,\n",
       " 0.39592515018183416,\n",
       " -0.55878904885161629,\n",
       " -0.99975517335861985,\n",
       " -0.52155100208691185,\n",
       " 0.43616475524782494,\n",
       " 0.99287264808453712,\n",
       " 0.63673800713913786,\n",
       " -0.30481062110221668,\n",
       " -0.96611777000839294,\n",
       " -0.73918069664922281,\n",
       " 0.16735570030280691,\n",
       " 0.92002603819679074,\n",
       " 0.82682867949010341,\n",
       " -0.026551154023966794,\n",
       " -0.85551997897532228,\n",
       " -0.8979276806892913,\n",
       " -0.11478481378318722,\n",
       " 0.77389068155788909,\n",
       " 0.95105465325437466,\n",
       " 0.25382336276203626,\n",
       " -0.67677195688730762,\n",
       " -0.98514626046824738,\n",
       " -0.38778163540943045,\n",
       " 0.56610763689818033,\n",
       " 0.99952015858073129,\n",
       " 0.51397845598753522,\n",
       " -0.44411266870750837,\n",
       " -0.99388865392337522,\n",
       " -0.62988799427445386,\n",
       " 0.31322878243308516,\n",
       " 0.96836446110018537,\n",
       " 0.73319032007329221,\n",
       " -0.17607561994858709,\n",
       " -0.92345844700405977,\n",
       " -0.82181783663082253,\n",
       " 0.03539830273366068,\n",
       " 0.86006940581245317,\n",
       " 0.89399666360055785]"
      ]
     },
     "execution_count": 47,
     "metadata": {},
     "output_type": "execute_result"
    }
   ],
   "source": [
    "calculated2 = [np.sin(deg) for deg in range(0, 91)]\n",
    "calculated2"
   ]
  },
  {
   "cell_type": "code",
   "execution_count": 48,
   "metadata": {
    "collapsed": false
   },
   "outputs": [
    {
     "data": {
      "text/plain": [
       "array([ 0.        ,  0.84147098,  0.90929743,  0.14112001, -0.7568025 ,\n",
       "       -0.95892427, -0.2794155 ,  0.6569866 ,  0.98935825,  0.41211849,\n",
       "       -0.54402111, -0.99999021, -0.53657292,  0.42016704,  0.99060736,\n",
       "        0.65028784, -0.28790332, -0.96139749, -0.75098725,  0.14987721,\n",
       "        0.91294525,  0.83665564, -0.00885131, -0.8462204 , -0.90557836,\n",
       "       -0.13235175,  0.76255845,  0.95637593,  0.27090579, -0.66363388,\n",
       "       -0.98803162, -0.40403765,  0.55142668,  0.99991186,  0.52908269,\n",
       "       -0.42818267, -0.99177885, -0.64353813,  0.29636858,  0.96379539,\n",
       "        0.74511316, -0.15862267, -0.91652155, -0.83177474,  0.01770193,\n",
       "        0.85090352,  0.90178835,  0.12357312, -0.76825466, -0.95375265,\n",
       "       -0.26237485,  0.67022918,  0.98662759,  0.39592515, -0.55878905,\n",
       "       -0.99975517, -0.521551  ,  0.43616476,  0.99287265,  0.63673801,\n",
       "       -0.30481062, -0.96611777, -0.7391807 ,  0.1673557 ,  0.92002604,\n",
       "        0.82682868, -0.02655115, -0.85551998, -0.89792768, -0.11478481,\n",
       "        0.77389068,  0.95105465,  0.25382336, -0.67677196, -0.98514626,\n",
       "       -0.38778164,  0.56610764,  0.99952016,  0.51397846, -0.44411267,\n",
       "       -0.99388865, -0.62988799,  0.31322878,  0.96836446,  0.73319032,\n",
       "       -0.17607562, -0.92345845, -0.82181784,  0.0353983 ,  0.86006941,\n",
       "        0.89399666])"
      ]
     },
     "execution_count": 48,
     "metadata": {},
     "output_type": "execute_result"
    }
   ],
   "source": [
    "np.sin(range(0,91))"
   ]
  },
  {
   "cell_type": "markdown",
   "metadata": {},
   "source": [
    "Broadcasting"
   ]
  },
  {
   "cell_type": "code",
   "execution_count": 49,
   "metadata": {
    "collapsed": false
   },
   "outputs": [
    {
     "data": {
      "text/plain": [
       "array([ 0.        ,  0.84147098,  0.90929743,  0.14112001, -0.7568025 ,\n",
       "       -0.95892427, -0.2794155 ,  0.6569866 ,  0.98935825,  0.41211849,\n",
       "       -0.54402111, -0.99999021, -0.53657292,  0.42016704,  0.99060736,\n",
       "        0.65028784, -0.28790332, -0.96139749, -0.75098725,  0.14987721,\n",
       "        0.91294525,  0.83665564, -0.00885131, -0.8462204 , -0.90557836,\n",
       "       -0.13235175,  0.76255845,  0.95637593,  0.27090579, -0.66363388,\n",
       "       -0.98803162, -0.40403765,  0.55142668,  0.99991186,  0.52908269,\n",
       "       -0.42818267, -0.99177885, -0.64353813,  0.29636858,  0.96379539,\n",
       "        0.74511316, -0.15862267, -0.91652155, -0.83177474,  0.01770193,\n",
       "        0.85090352,  0.90178835,  0.12357312, -0.76825466, -0.95375265,\n",
       "       -0.26237485,  0.67022918,  0.98662759,  0.39592515, -0.55878905,\n",
       "       -0.99975517, -0.521551  ,  0.43616476,  0.99287265,  0.63673801,\n",
       "       -0.30481062, -0.96611777, -0.7391807 ,  0.1673557 ,  0.92002604,\n",
       "        0.82682868, -0.02655115, -0.85551998, -0.89792768, -0.11478481,\n",
       "        0.77389068,  0.95105465,  0.25382336, -0.67677196, -0.98514626,\n",
       "       -0.38778164,  0.56610764,  0.99952016,  0.51397846, -0.44411267,\n",
       "       -0.99388865, -0.62988799,  0.31322878,  0.96836446,  0.73319032,\n",
       "       -0.17607562, -0.92345845, -0.82181784,  0.0353983 ,  0.86006941,\n",
       "        0.89399666])"
      ]
     },
     "execution_count": 49,
     "metadata": {},
     "output_type": "execute_result"
    }
   ],
   "source": [
    "np.sin([deg for deg in range(0, 91)])"
   ]
  },
  {
   "cell_type": "code",
   "execution_count": 50,
   "metadata": {
    "collapsed": false
   },
   "outputs": [
    {
     "name": "stdout",
     "output_type": "stream",
     "text": [
      "1000 loops, best of 3: 338 µs per loop\n"
     ]
    }
   ],
   "source": [
    "%timeit [np.sin(deg) for deg in range(0, 91)]"
   ]
  },
  {
   "cell_type": "code",
   "execution_count": 51,
   "metadata": {
    "collapsed": false
   },
   "outputs": [
    {
     "name": "stdout",
     "output_type": "stream",
     "text": [
      "10000 loops, best of 3: 48.1 µs per loop\n"
     ]
    }
   ],
   "source": [
    "%timeit np.sin ([deg for deg in range(0, 91)])"
   ]
  },
  {
   "cell_type": "code",
   "execution_count": null,
   "metadata": {
    "collapsed": true
   },
   "outputs": [],
   "source": []
  },
  {
   "cell_type": "code",
   "execution_count": 52,
   "metadata": {
    "collapsed": true
   },
   "outputs": [],
   "source": [
    "paragraph = \"\"\"\n",
    "Batman's secret identity is Bruce Wayne, an American billionaire, playboy, philanthropist, and owner of Wayne Enterprises. After witnessing the murder of his parents Thomas Wayne and Martha Wayne as a child, he swore vengeance against criminals, an oath tempered by a sense of justice. Wayne trains himself physically and intellectually and crafts a bat-inspired persona to fight crime.[7] Batman operates in the fictional Gotham City, with assistance from various supporting characters, including his butler Alfred, police commissioner Gordon, and vigilante allies such as Robin. Unlike most superheroes, Batman does not possess any superpowers; rather, he relies on his genius intellect, physical prowess, martial arts abilities, detective skills, science and technology, vast wealth, intimidation, and indomitable will. A large assortment of villains make up Batman's rogues gallery, including his archenemy, the Joker.\n",
    "\"\"\""
   ]
  },
  {
   "cell_type": "code",
   "execution_count": 53,
   "metadata": {
    "collapsed": false
   },
   "outputs": [],
   "source": [
    "cleaned_text = paragraph.lower().replace(',', '').replace('.', '').replace('\\n', ' ').strip()"
   ]
  },
  {
   "cell_type": "code",
   "execution_count": 54,
   "metadata": {
    "collapsed": false
   },
   "outputs": [
    {
     "data": {
      "text/plain": [
       "\"batman's secret identity is bruce wayne an american billionaire playboy philanthropist and owner of wayne enterprises after witnessing the murder of his parents thomas wayne and martha wayne as a child he swore vengeance against criminals an oath tempered by a sense of justice wayne trains himself physically and intellectually and crafts a bat-inspired persona to fight crime[7] batman operates in the fictional gotham city with assistance from various supporting characters including his butler alfred police commissioner gordon and vigilante allies such as robin unlike most superheroes batman does not possess any superpowers; rather he relies on his genius intellect physical prowess martial arts abilities detective skills science and technology vast wealth intimidation and indomitable will a large assortment of villains make up batman's rogues gallery including his archenemy the joker\""
      ]
     },
     "execution_count": 54,
     "metadata": {},
     "output_type": "execute_result"
    }
   ],
   "source": [
    "cleaned_text"
   ]
  },
  {
   "cell_type": "code",
   "execution_count": 55,
   "metadata": {
    "collapsed": false
   },
   "outputs": [
    {
     "data": {
      "text/plain": [
       "{' ',\n",
       " \"'\",\n",
       " '-',\n",
       " '7',\n",
       " ';',\n",
       " '[',\n",
       " ']',\n",
       " 'a',\n",
       " 'b',\n",
       " 'c',\n",
       " 'd',\n",
       " 'e',\n",
       " 'f',\n",
       " 'g',\n",
       " 'h',\n",
       " 'i',\n",
       " 'j',\n",
       " 'k',\n",
       " 'l',\n",
       " 'm',\n",
       " 'n',\n",
       " 'o',\n",
       " 'p',\n",
       " 'r',\n",
       " 's',\n",
       " 't',\n",
       " 'u',\n",
       " 'v',\n",
       " 'w',\n",
       " 'y'}"
      ]
     },
     "execution_count": 55,
     "metadata": {},
     "output_type": "execute_result"
    }
   ],
   "source": [
    "set(cleaned_text)"
   ]
  },
  {
   "cell_type": "code",
   "execution_count": 56,
   "metadata": {
    "collapsed": false
   },
   "outputs": [
    {
     "data": {
      "text/plain": [
       "[\"batman's\",\n",
       " 'secret',\n",
       " 'identity',\n",
       " 'is',\n",
       " 'bruce',\n",
       " 'wayne',\n",
       " 'an',\n",
       " 'american',\n",
       " 'billionaire',\n",
       " 'playboy',\n",
       " 'philanthropist',\n",
       " 'and',\n",
       " 'owner',\n",
       " 'of',\n",
       " 'wayne',\n",
       " 'enterprises',\n",
       " 'after',\n",
       " 'witnessing',\n",
       " 'the',\n",
       " 'murder',\n",
       " 'of',\n",
       " 'his',\n",
       " 'parents',\n",
       " 'thomas',\n",
       " 'wayne',\n",
       " 'and',\n",
       " 'martha',\n",
       " 'wayne',\n",
       " 'as',\n",
       " 'a',\n",
       " 'child',\n",
       " 'he',\n",
       " 'swore',\n",
       " 'vengeance',\n",
       " 'against',\n",
       " 'criminals',\n",
       " 'an',\n",
       " 'oath',\n",
       " 'tempered',\n",
       " 'by',\n",
       " 'a',\n",
       " 'sense',\n",
       " 'of',\n",
       " 'justice',\n",
       " 'wayne',\n",
       " 'trains',\n",
       " 'himself',\n",
       " 'physically',\n",
       " 'and',\n",
       " 'intellectually',\n",
       " 'and',\n",
       " 'crafts',\n",
       " 'a',\n",
       " 'bat-inspired',\n",
       " 'persona',\n",
       " 'to',\n",
       " 'fight',\n",
       " 'crime[7]',\n",
       " 'batman',\n",
       " 'operates',\n",
       " 'in',\n",
       " 'the',\n",
       " 'fictional',\n",
       " 'gotham',\n",
       " 'city',\n",
       " 'with',\n",
       " 'assistance',\n",
       " 'from',\n",
       " 'various',\n",
       " 'supporting',\n",
       " 'characters',\n",
       " 'including',\n",
       " 'his',\n",
       " 'butler',\n",
       " 'alfred',\n",
       " 'police',\n",
       " 'commissioner',\n",
       " 'gordon',\n",
       " 'and',\n",
       " 'vigilante',\n",
       " 'allies',\n",
       " 'such',\n",
       " 'as',\n",
       " 'robin',\n",
       " 'unlike',\n",
       " 'most',\n",
       " 'superheroes',\n",
       " 'batman',\n",
       " 'does',\n",
       " 'not',\n",
       " 'possess',\n",
       " 'any',\n",
       " 'superpowers;',\n",
       " 'rather',\n",
       " 'he',\n",
       " 'relies',\n",
       " 'on',\n",
       " 'his',\n",
       " 'genius',\n",
       " 'intellect',\n",
       " 'physical',\n",
       " 'prowess',\n",
       " 'martial',\n",
       " 'arts',\n",
       " 'abilities',\n",
       " 'detective',\n",
       " 'skills',\n",
       " 'science',\n",
       " 'and',\n",
       " 'technology',\n",
       " 'vast',\n",
       " 'wealth',\n",
       " 'intimidation',\n",
       " 'and',\n",
       " 'indomitable',\n",
       " 'will',\n",
       " 'a',\n",
       " 'large',\n",
       " 'assortment',\n",
       " 'of',\n",
       " 'villains',\n",
       " 'make',\n",
       " 'up',\n",
       " \"batman's\",\n",
       " 'rogues',\n",
       " 'gallery',\n",
       " 'including',\n",
       " 'his',\n",
       " 'archenemy',\n",
       " 'the',\n",
       " 'joker']"
      ]
     },
     "execution_count": 56,
     "metadata": {},
     "output_type": "execute_result"
    }
   ],
   "source": [
    "cleaned_text.split()"
   ]
  },
  {
   "cell_type": "code",
   "execution_count": 57,
   "metadata": {
    "collapsed": false
   },
   "outputs": [
    {
     "data": {
      "text/plain": [
       "{'a',\n",
       " 'abilities',\n",
       " 'after',\n",
       " 'against',\n",
       " 'alfred',\n",
       " 'allies',\n",
       " 'american',\n",
       " 'an',\n",
       " 'and',\n",
       " 'any',\n",
       " 'archenemy',\n",
       " 'arts',\n",
       " 'as',\n",
       " 'assistance',\n",
       " 'assortment',\n",
       " 'bat-inspired',\n",
       " 'batman',\n",
       " \"batman's\",\n",
       " 'billionaire',\n",
       " 'bruce',\n",
       " 'butler',\n",
       " 'by',\n",
       " 'characters',\n",
       " 'child',\n",
       " 'city',\n",
       " 'commissioner',\n",
       " 'crafts',\n",
       " 'crime[7]',\n",
       " 'criminals',\n",
       " 'detective',\n",
       " 'does',\n",
       " 'enterprises',\n",
       " 'fictional',\n",
       " 'fight',\n",
       " 'from',\n",
       " 'gallery',\n",
       " 'genius',\n",
       " 'gordon',\n",
       " 'gotham',\n",
       " 'he',\n",
       " 'himself',\n",
       " 'his',\n",
       " 'identity',\n",
       " 'in',\n",
       " 'including',\n",
       " 'indomitable',\n",
       " 'intellect',\n",
       " 'intellectually',\n",
       " 'intimidation',\n",
       " 'is',\n",
       " 'joker',\n",
       " 'justice',\n",
       " 'large',\n",
       " 'make',\n",
       " 'martha',\n",
       " 'martial',\n",
       " 'most',\n",
       " 'murder',\n",
       " 'not',\n",
       " 'oath',\n",
       " 'of',\n",
       " 'on',\n",
       " 'operates',\n",
       " 'owner',\n",
       " 'parents',\n",
       " 'persona',\n",
       " 'philanthropist',\n",
       " 'physical',\n",
       " 'physically',\n",
       " 'playboy',\n",
       " 'police',\n",
       " 'possess',\n",
       " 'prowess',\n",
       " 'rather',\n",
       " 'relies',\n",
       " 'robin',\n",
       " 'rogues',\n",
       " 'science',\n",
       " 'secret',\n",
       " 'sense',\n",
       " 'skills',\n",
       " 'such',\n",
       " 'superheroes',\n",
       " 'superpowers;',\n",
       " 'supporting',\n",
       " 'swore',\n",
       " 'technology',\n",
       " 'tempered',\n",
       " 'the',\n",
       " 'thomas',\n",
       " 'to',\n",
       " 'trains',\n",
       " 'unlike',\n",
       " 'up',\n",
       " 'various',\n",
       " 'vast',\n",
       " 'vengeance',\n",
       " 'vigilante',\n",
       " 'villains',\n",
       " 'wayne',\n",
       " 'wealth',\n",
       " 'will',\n",
       " 'with',\n",
       " 'witnessing'}"
      ]
     },
     "execution_count": 57,
     "metadata": {},
     "output_type": "execute_result"
    }
   ],
   "source": [
    "set(cleaned_text.split())"
   ]
  },
  {
   "cell_type": "code",
   "execution_count": 58,
   "metadata": {
    "collapsed": false
   },
   "outputs": [
    {
     "name": "stdout",
     "output_type": "stream",
     "text": [
      "Help on built-in function count:\n",
      "\n",
      "count(...) method of builtins.list instance\n",
      "    L.count(value) -> integer -- return number of occurrences of value\n",
      "\n"
     ]
    }
   ],
   "source": [
    "help([].count)"
   ]
  },
  {
   "cell_type": "code",
   "execution_count": 59,
   "metadata": {
    "collapsed": true
   },
   "outputs": [],
   "source": [
    "word_list = cleaned_text.split()"
   ]
  },
  {
   "cell_type": "code",
   "execution_count": 60,
   "metadata": {
    "collapsed": true
   },
   "outputs": [],
   "source": [
    "word_set = set(word_list)"
   ]
  },
  {
   "cell_type": "code",
   "execution_count": 61,
   "metadata": {
    "collapsed": false
   },
   "outputs": [
    {
     "data": {
      "text/plain": [
       "{'a': 4,\n",
       " 'abilities': 1,\n",
       " 'after': 1,\n",
       " 'against': 1,\n",
       " 'alfred': 1,\n",
       " 'allies': 1,\n",
       " 'american': 1,\n",
       " 'an': 2,\n",
       " 'and': 7,\n",
       " 'any': 1,\n",
       " 'archenemy': 1,\n",
       " 'arts': 1,\n",
       " 'as': 2,\n",
       " 'assistance': 1,\n",
       " 'assortment': 1,\n",
       " 'bat-inspired': 1,\n",
       " 'batman': 2,\n",
       " \"batman's\": 2,\n",
       " 'billionaire': 1,\n",
       " 'bruce': 1,\n",
       " 'butler': 1,\n",
       " 'by': 1,\n",
       " 'characters': 1,\n",
       " 'child': 1,\n",
       " 'city': 1,\n",
       " 'commissioner': 1,\n",
       " 'crafts': 1,\n",
       " 'crime[7]': 1,\n",
       " 'criminals': 1,\n",
       " 'detective': 1,\n",
       " 'does': 1,\n",
       " 'enterprises': 1,\n",
       " 'fictional': 1,\n",
       " 'fight': 1,\n",
       " 'from': 1,\n",
       " 'gallery': 1,\n",
       " 'genius': 1,\n",
       " 'gordon': 1,\n",
       " 'gotham': 1,\n",
       " 'he': 2,\n",
       " 'himself': 1,\n",
       " 'his': 4,\n",
       " 'identity': 1,\n",
       " 'in': 1,\n",
       " 'including': 2,\n",
       " 'indomitable': 1,\n",
       " 'intellect': 1,\n",
       " 'intellectually': 1,\n",
       " 'intimidation': 1,\n",
       " 'is': 1,\n",
       " 'joker': 1,\n",
       " 'justice': 1,\n",
       " 'large': 1,\n",
       " 'make': 1,\n",
       " 'martha': 1,\n",
       " 'martial': 1,\n",
       " 'most': 1,\n",
       " 'murder': 1,\n",
       " 'not': 1,\n",
       " 'oath': 1,\n",
       " 'of': 4,\n",
       " 'on': 1,\n",
       " 'operates': 1,\n",
       " 'owner': 1,\n",
       " 'parents': 1,\n",
       " 'persona': 1,\n",
       " 'philanthropist': 1,\n",
       " 'physical': 1,\n",
       " 'physically': 1,\n",
       " 'playboy': 1,\n",
       " 'police': 1,\n",
       " 'possess': 1,\n",
       " 'prowess': 1,\n",
       " 'rather': 1,\n",
       " 'relies': 1,\n",
       " 'robin': 1,\n",
       " 'rogues': 1,\n",
       " 'science': 1,\n",
       " 'secret': 1,\n",
       " 'sense': 1,\n",
       " 'skills': 1,\n",
       " 'such': 1,\n",
       " 'superheroes': 1,\n",
       " 'superpowers;': 1,\n",
       " 'supporting': 1,\n",
       " 'swore': 1,\n",
       " 'technology': 1,\n",
       " 'tempered': 1,\n",
       " 'the': 3,\n",
       " 'thomas': 1,\n",
       " 'to': 1,\n",
       " 'trains': 1,\n",
       " 'unlike': 1,\n",
       " 'up': 1,\n",
       " 'various': 1,\n",
       " 'vast': 1,\n",
       " 'vengeance': 1,\n",
       " 'vigilante': 1,\n",
       " 'villains': 1,\n",
       " 'wayne': 5,\n",
       " 'wealth': 1,\n",
       " 'will': 1,\n",
       " 'with': 1,\n",
       " 'witnessing': 1}"
      ]
     },
     "execution_count": 61,
     "metadata": {},
     "output_type": "execute_result"
    }
   ],
   "source": [
    "{word: word_list.count(word) for word in word_set}"
   ]
  },
  {
   "cell_type": "code",
   "execution_count": null,
   "metadata": {
    "collapsed": true
   },
   "outputs": [],
   "source": []
  },
  {
   "cell_type": "code",
   "execution_count": 62,
   "metadata": {
    "collapsed": false
   },
   "outputs": [
    {
     "data": {
      "text/plain": [
       "list"
      ]
     },
     "execution_count": 62,
     "metadata": {},
     "output_type": "execute_result"
    }
   ],
   "source": [
    "type ([])"
   ]
  },
  {
   "cell_type": "code",
   "execution_count": 63,
   "metadata": {
    "collapsed": false
   },
   "outputs": [
    {
     "data": {
      "text/plain": [
       "dict"
      ]
     },
     "execution_count": 63,
     "metadata": {},
     "output_type": "execute_result"
    }
   ],
   "source": [
    "type({})"
   ]
  },
  {
   "cell_type": "code",
   "execution_count": 75,
   "metadata": {
    "collapsed": false
   },
   "outputs": [
    {
     "ename": "SyntaxError",
     "evalue": "invalid syntax (<ipython-input-75-a1fd7ab2971d>, line 1)",
     "output_type": "error",
     "traceback": [
      "\u001b[0;36m  File \u001b[0;32m\"<ipython-input-75-a1fd7ab2971d>\"\u001b[0;36m, line \u001b[0;32m1\u001b[0m\n\u001b[0;31m    type(,)\u001b[0m\n\u001b[0m         ^\u001b[0m\n\u001b[0;31mSyntaxError\u001b[0m\u001b[0;31m:\u001b[0m invalid syntax\n"
     ]
    }
   ],
   "source": [
    "type(,)"
   ]
  },
  {
   "cell_type": "code",
   "execution_count": 76,
   "metadata": {
    "collapsed": false
   },
   "outputs": [
    {
     "data": {
      "text/plain": [
       "set"
      ]
     },
     "execution_count": 76,
     "metadata": {},
     "output_type": "execute_result"
    }
   ],
   "source": [
    "type(set())"
   ]
  },
  {
   "cell_type": "code",
   "execution_count": 77,
   "metadata": {
    "collapsed": false
   },
   "outputs": [
    {
     "data": {
      "text/plain": [
       "['__add__',\n",
       " '__class__',\n",
       " '__contains__',\n",
       " '__delattr__',\n",
       " '__dir__',\n",
       " '__doc__',\n",
       " '__eq__',\n",
       " '__format__',\n",
       " '__ge__',\n",
       " '__getattribute__',\n",
       " '__getitem__',\n",
       " '__getnewargs__',\n",
       " '__gt__',\n",
       " '__hash__',\n",
       " '__init__',\n",
       " '__init_subclass__',\n",
       " '__iter__',\n",
       " '__le__',\n",
       " '__len__',\n",
       " '__lt__',\n",
       " '__mod__',\n",
       " '__mul__',\n",
       " '__ne__',\n",
       " '__new__',\n",
       " '__reduce__',\n",
       " '__reduce_ex__',\n",
       " '__repr__',\n",
       " '__rmod__',\n",
       " '__rmul__',\n",
       " '__setattr__',\n",
       " '__sizeof__',\n",
       " '__str__',\n",
       " '__subclasshook__',\n",
       " 'capitalize',\n",
       " 'casefold',\n",
       " 'center',\n",
       " 'count',\n",
       " 'encode',\n",
       " 'endswith',\n",
       " 'expandtabs',\n",
       " 'find',\n",
       " 'format',\n",
       " 'format_map',\n",
       " 'index',\n",
       " 'isalnum',\n",
       " 'isalpha',\n",
       " 'isdecimal',\n",
       " 'isdigit',\n",
       " 'isidentifier',\n",
       " 'islower',\n",
       " 'isnumeric',\n",
       " 'isprintable',\n",
       " 'isspace',\n",
       " 'istitle',\n",
       " 'isupper',\n",
       " 'join',\n",
       " 'ljust',\n",
       " 'lower',\n",
       " 'lstrip',\n",
       " 'maketrans',\n",
       " 'partition',\n",
       " 'replace',\n",
       " 'rfind',\n",
       " 'rindex',\n",
       " 'rjust',\n",
       " 'rpartition',\n",
       " 'rsplit',\n",
       " 'rstrip',\n",
       " 'split',\n",
       " 'splitlines',\n",
       " 'startswith',\n",
       " 'strip',\n",
       " 'swapcase',\n",
       " 'title',\n",
       " 'translate',\n",
       " 'upper',\n",
       " 'zfill']"
      ]
     },
     "execution_count": 77,
     "metadata": {},
     "output_type": "execute_result"
    }
   ],
   "source": [
    "dir('')"
   ]
  },
  {
   "cell_type": "code",
   "execution_count": 81,
   "metadata": {
    "collapsed": false
   },
   "outputs": [
    {
     "data": {
      "text/plain": [
       "{'bat-inspired', \"batman's\", 'crime[7]', 'superpowers;'}"
      ]
     },
     "execution_count": 81,
     "metadata": {},
     "output_type": "execute_result"
    }
   ],
   "source": [
    "{word for word in word_list if not word.isalpha()}"
   ]
  },
  {
   "cell_type": "code",
   "execution_count": 82,
   "metadata": {
    "collapsed": false
   },
   "outputs": [
    {
     "data": {
      "text/plain": [
       "{'', 'bat-inspired', \"batman's\", 'crime[7]', 'superpowers;'}"
      ]
     },
     "execution_count": 82,
     "metadata": {},
     "output_type": "execute_result"
    }
   ],
   "source": [
    "{word if not word.isalpha() else '' for word in word_list}"
   ]
  },
  {
   "cell_type": "code",
   "execution_count": null,
   "metadata": {
    "collapsed": true
   },
   "outputs": [],
   "source": []
  },
  {
   "cell_type": "code",
   "execution_count": 84,
   "metadata": {
    "collapsed": false
   },
   "outputs": [
    {
     "data": {
      "text/plain": [
       "['__and__',\n",
       " '__class__',\n",
       " '__contains__',\n",
       " '__delattr__',\n",
       " '__dir__',\n",
       " '__doc__',\n",
       " '__eq__',\n",
       " '__format__',\n",
       " '__ge__',\n",
       " '__getattribute__',\n",
       " '__gt__',\n",
       " '__hash__',\n",
       " '__iand__',\n",
       " '__init__',\n",
       " '__init_subclass__',\n",
       " '__ior__',\n",
       " '__isub__',\n",
       " '__iter__',\n",
       " '__ixor__',\n",
       " '__le__',\n",
       " '__len__',\n",
       " '__lt__',\n",
       " '__ne__',\n",
       " '__new__',\n",
       " '__or__',\n",
       " '__rand__',\n",
       " '__reduce__',\n",
       " '__reduce_ex__',\n",
       " '__repr__',\n",
       " '__ror__',\n",
       " '__rsub__',\n",
       " '__rxor__',\n",
       " '__setattr__',\n",
       " '__sizeof__',\n",
       " '__str__',\n",
       " '__sub__',\n",
       " '__subclasshook__',\n",
       " '__xor__',\n",
       " 'add',\n",
       " 'clear',\n",
       " 'copy',\n",
       " 'difference',\n",
       " 'difference_update',\n",
       " 'discard',\n",
       " 'intersection',\n",
       " 'intersection_update',\n",
       " 'isdisjoint',\n",
       " 'issubset',\n",
       " 'issuperset',\n",
       " 'pop',\n",
       " 'remove',\n",
       " 'symmetric_difference',\n",
       " 'symmetric_difference_update',\n",
       " 'union',\n",
       " 'update']"
      ]
     },
     "execution_count": 84,
     "metadata": {},
     "output_type": "execute_result"
    }
   ],
   "source": [
    "dir (set())"
   ]
  },
  {
   "cell_type": "code",
   "execution_count": null,
   "metadata": {
    "collapsed": true
   },
   "outputs": [],
   "source": []
  },
  {
   "cell_type": "code",
   "execution_count": null,
   "metadata": {
    "collapsed": true
   },
   "outputs": [],
   "source": []
  },
  {
   "cell_type": "code",
   "execution_count": null,
   "metadata": {
    "collapsed": true
   },
   "outputs": [],
   "source": []
  },
  {
   "cell_type": "code",
   "execution_count": null,
   "metadata": {
    "collapsed": true
   },
   "outputs": [],
   "source": []
  }
 ],
 "metadata": {
  "kernelspec": {
   "display_name": "Python 3",
   "language": "python",
   "name": "python3"
  },
  "language_info": {
   "codemirror_mode": {
    "name": "ipython",
    "version": 3
   },
   "file_extension": ".py",
   "mimetype": "text/x-python",
   "name": "python",
   "nbconvert_exporter": "python",
   "pygments_lexer": "ipython3",
   "version": "3.6.0"
  }
 },
 "nbformat": 4,
 "nbformat_minor": 2
}
